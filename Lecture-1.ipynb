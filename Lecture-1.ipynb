{
 "cells": [
  {
   "cell_type": "markdown",
   "metadata": {
    "slideshow": {
     "slide_type": "slide"
    }
   },
   "source": [
    "# Lecture-0\n",
    "\n",
    "# Intro to computational functional analysis"
   ]
  },
  {
   "cell_type": "markdown",
   "metadata": {
    "slideshow": {
     "slide_type": "slide"
    }
   },
   "source": [
    "## Technical intro\n",
    "\n",
    "The lectures can be found on http://github.com/oseledets/mathdata and conveniently viewed using **Nbviewer**. \n",
    "\n",
    "Or install Anaconda Python Distribution locally to view it.\n",
    "\n",
    "Now, let us start this (experimental) mini-course."
   ]
  },
  {
   "cell_type": "markdown",
   "metadata": {
    "slideshow": {
     "slide_type": "slide"
    }
   },
   "source": [
    "## Core of the Data Science\n",
    "\n",
    "Q: What is the core of the Data Science?\n"
   ]
  },
  {
   "cell_type": "markdown",
   "metadata": {
    "slideshow": {
     "slide_type": "fragment"
    }
   },
   "source": [
    "A: <font color='red'> Mathematics </font>\n",
    "\n",
    "Ability to derive abstract, non-obvious concepts that describe the collection of obvious \"experimental\" facts.\n",
    "\n",
    "That is why you need to know the basic fundamental concepts.\n",
    "\n",
    "And where these concepts start from?"
   ]
  },
  {
   "cell_type": "markdown",
   "metadata": {
    "slideshow": {
     "slide_type": "slide"
    }
   },
   "source": [
    "## Functional analysis\n",
    "\n",
    "Functional analysis is the study of vector spaces with some limit-related structure:\n",
    "\n",
    "- Topology (the most general)\n",
    "- Metrics\n",
    "- Norm\n",
    "- Scalar products"
   ]
  },
  {
   "cell_type": "markdown",
   "metadata": {
    "slideshow": {
     "slide_type": "slide"
    }
   },
   "source": [
    "## What is limit-related?\n",
    "\n",
    "The crucial idea is to find, whether two objects $X, Y$ are close, to solve:\n",
    "\n",
    "- Regression problems (given features $x$, predict target $y$)\n",
    "- Classification problems (given feature $x$, determine class $c$)\n",
    "\n",
    "All the algorithms for solving those basic data science problems rely (implicitly or explicitly)  on some **quantative similarity measures** between objects."
   ]
  },
  {
   "cell_type": "markdown",
   "metadata": {
    "slideshow": {
     "slide_type": "slide"
    }
   },
   "source": [
    "## Example 1\n",
    "Vectors in $\\mathbb{R}^n$, distance measure\n",
    "\n",
    "$$\\rho(x, y) = \\Vert x - y \\Vert_2 = \\sqrt{\\sum_{i=1}^n | x_i - y_i |^2} $$\n",
    "\n",
    "Do you know other finite-dimensional \"similarity measures\"?"
   ]
  },
  {
   "cell_type": "markdown",
   "metadata": {
    "slideshow": {
     "slide_type": "slide"
    }
   },
   "source": [
    "## Example 2\n",
    "\n",
    "Vector spaces can be **infinite-dimensional**"
   ]
  },
  {
   "cell_type": "markdown",
   "metadata": {
    "slideshow": {
     "slide_type": "fragment"
    }
   },
   "source": [
    "Given two (for example, continious) functions, $f(x)$ and $g(x)$:\n",
    "\n",
    "$$\\rho(f, g) = \\Vert f - g \\Vert_2 = \\sqrt{\\int^b_a (f - g)^2 dx}$$\n"
   ]
  },
  {
   "cell_type": "markdown",
   "metadata": {
    "slideshow": {
     "slide_type": "slide"
    }
   },
   "source": [
    "## Abstract concept 1: Metric spaces\n",
    "\n",
    "Q: Do we need vector space to define the distance? (i.e. linear structure?)\n",
    "\n",
    "\n"
   ]
  },
  {
   "cell_type": "markdown",
   "metadata": {
    "slideshow": {
     "slide_type": "fragment"
    }
   },
   "source": [
    "A: No! We only need a function $\\rho(x, y)$ which satisfies certain properties."
   ]
  },
  {
   "cell_type": "markdown",
   "metadata": {
    "slideshow": {
     "slide_type": "slide"
    }
   },
   "source": [
    "## Metric spaces\n",
    "\n",
    "Set $X$ is called **metric space**, if for each pair $(x, y)$ we have a real number $\\rho(x, y)$ such that\n",
    "\n",
    "1. $\\rho(x, y) \\geq 0, \\quad \\rho(x, y)  = 0 \\rightarrow x = y$ (non-negativity)\n",
    "2. $\\rho(x, y) = \\rho(y, x)$ (symmetry)\n",
    "3. $\\rho(x, y) \\leq \\rho(x, z) + \\rho(y, z)$ (triangle inequality)\n",
    "\n",
    "That is all that we need, no linear combinations\n",
    "\n",
    "Q1 (easy) Example of a metric space?\n",
    "\n",
    "Q2 (difficult): Example of metric but non-linear space?"
   ]
  },
  {
   "cell_type": "markdown",
   "metadata": {
    "slideshow": {
     "slide_type": "slide"
    }
   },
   "source": []
  },
  {
   "cell_type": "markdown",
   "metadata": {},
   "source": [
    "## Convergence\n",
    "\n",
    "The concept of the limit plays a key role in optimization which is ubiquitos in Data Science.\n",
    "\n",
    "<img src='dasha.jpg' width=60%> </img>"
   ]
  },
  {
   "cell_type": "markdown",
   "metadata": {
    "slideshow": {
     "slide_type": "slide"
    }
   },
   "source": [
    "## Real definition\n",
    "\n",
    "A sequence $x_1, \\ldots, x_n, \\ldots$ converges to $x$ if \n",
    "\n",
    "$$\\lim_{n->\\infty} \\rho(x_n, x) = 0.$$ \n",
    "\n",
    "Can we prove non-trivial statements?"
   ]
  },
  {
   "cell_type": "markdown",
   "metadata": {
    "slideshow": {
     "slide_type": "slide"
    }
   },
   "source": [
    "## No more than 1 limit point\n",
    "\n",
    "If $x_n \\rightarrow x$, $x_n \\rightarrow y$,  then $x = y$.\n",
    "\n",
    "Proof:\n",
    "\n",
    "$$\\rho(x, y) \\leq \\rho(x_n, x) + \\rho(y_n, y) \\rightarrow 0.$$"
   ]
  },
  {
   "cell_type": "markdown",
   "metadata": {
    "slideshow": {
     "slide_type": "slide"
    }
   },
   "source": [
    "## Balls\n",
    "\n",
    "The metric allows us to define a **ball**, i.e. the set\n",
    "\n",
    "$$D_r(x_0) = \\{x: \\rho(x, x_0) < r\\}.$$\n"
   ]
  },
  {
   "cell_type": "markdown",
   "metadata": {
    "slideshow": {
     "slide_type": "slide"
    }
   },
   "source": [
    "## interior point\n",
    "\n",
    "A point $x$ is called **interior point** of a set $X$, \n",
    "\n",
    "if there is a ball $D_{\\epsilon}(x) \\subset X$."
   ]
  },
  {
   "cell_type": "markdown",
   "metadata": {
    "slideshow": {
     "slide_type": "slide"
    }
   },
   "source": [
    "## Open set\n",
    "\n",
    "A set $X$ is called **open set**, if all points are interior (simple: open interval, (0, 1) )."
   ]
  },
  {
   "cell_type": "markdown",
   "metadata": {
    "slideshow": {
     "slide_type": "slide"
    }
   },
   "source": [
    "## Closed set\n",
    "\n",
    "To define a **closed set**, we need to define **limit points** $x$ as the set of all possible limits \n",
    "of sequences $\\{x_n\\}$, where $x_n \\in X$.\n",
    "\n",
    "The **closure** of the set $X$, the set $\\overline{X}$  is $X$ plus all of the limit points.\n",
    "\n",
    "The set $X$ is called **closed**, if $\\overline{X} = X$.\n"
   ]
  },
  {
   "cell_type": "markdown",
   "metadata": {
    "slideshow": {
     "slide_type": "slide"
    }
   },
   "source": [
    "## \"Applications\"\n",
    "\n",
    "The concept of closed sets plays a key role in the analysis of optimization and iterative algorithms.\n",
    "\n",
    "If we know, that a feasible set is closed, than under some assumptions it is often possible to\n",
    "\n",
    "establish the convergence (i.e., proxy iteration in optimization)."
   ]
  },
  {
   "cell_type": "markdown",
   "metadata": {
    "slideshow": {
     "slide_type": "slide"
    }
   },
   "source": [
    "## More from school\n",
    "\n",
    "A sequence $x_n$ is called **fundamental**, if\n",
    "\n",
    "$$\\forall \\epsilon > 0, \\quad \\exists N_0: \\rho(x_n, x_m) < \\epsilon \\quad \\forall n, m > N_0.$$\n",
    "\n",
    "**Theorem**\n",
    "\n",
    "If $x_n$ converges to $x$, then $x_n$ is **fundamental**.\n",
    "\n",
    "Key question: **Is inverse true**?\n",
    "\n",
    "The answer to this question played a crucial role in all functional analysis."
   ]
  },
  {
   "cell_type": "markdown",
   "metadata": {
    "slideshow": {
     "slide_type": "slide"
    }
   },
   "source": [
    "## Complete metric spaces\n",
    "\n",
    "A metric space is called **complete**, if any fundamental sequence has a limit."
   ]
  },
  {
   "cell_type": "markdown",
   "metadata": {
    "slideshow": {
     "slide_type": "slide"
    }
   },
   "source": [
    "## Example of complete metric spaces\n",
    "\n",
    "Trivial: all finite-dimensional spaces\n",
    "\n",
    "Non-trivial(1): Chebyshev space $C[a, b]$\n",
    "\n",
    "Non-trivial(2): The space $\\mathcal{l}_2$ of all square summarable sequences is complete.\n",
    "\n",
    "\n",
    "Q: Example of a incomplete metric space?"
   ]
  },
  {
   "cell_type": "markdown",
   "metadata": {
    "slideshow": {
     "slide_type": "slide"
    }
   },
   "source": [
    "## Completing metric spaces\n",
    "In order to solve the incompleteness problem, a simple solution was found:\n",
    "\n",
    "**Add all limit points to the set**.\n",
    "\n",
    "A more strict definition:\n",
    "\n",
    "(basically, for any metric space $X$ there is a complete metric space $X'$ such that it\n",
    "$X$ is isometric to a dense subset $X''$ of $X'$)"
   ]
  },
  {
   "cell_type": "markdown",
   "metadata": {
    "slideshow": {
     "slide_type": "slide"
    }
   },
   "source": [
    "## Basic example\n",
    "\n",
    "Set of all rational numbers $\\mathbb{Q}$.\n",
    "\n",
    "Is it a closed set?\n",
    "\n",
    "What is the completion  $\\overline{\\mathbb{Q}}?$"
   ]
  },
  {
   "cell_type": "markdown",
   "metadata": {
    "slideshow": {
     "slide_type": "slide"
    }
   },
   "source": [
    "## Basic example 2\n",
    "\n",
    "Set of all polynomials in $[a, b]$.\n",
    "\n",
    "\n",
    "Is it a closed set?\n",
    "\n",
    "What is the completion in the metric $\\rho(p, q) = \\max_{x \\in [a, b]} \\left|p(x) - q(x)\\right|$?"
   ]
  },
  {
   "cell_type": "markdown",
   "metadata": {
    "slideshow": {
     "slide_type": "slide"
    }
   },
   "source": [
    "## Lebesgue spaces\n",
    "\n",
    "\n",
    "We can now define the Lebesgue integral as a metric in the completion of the space\n",
    "\n",
    "$\\widetilde{L}_1(a, b)$ \n",
    "\n",
    "which is defined as the set of all continious functions on $[a, b]$ with the \n",
    "metric\n",
    "\n",
    "$$\\rho(f, g) = \\int^b_{a} \\left| f(x) - g(x) \\right| \\, dx$$\n",
    "\n",
    "and that gives the Lebesgue space $L_1(a, b)$ (which may contain discontious functions!)\n",
    "\n",
    "And Lebesgue integral is the limit of Riemannian integrals of continious function.\n",
    "\n",
    "$$I(f) = \\lim_{n \\to \\infty} I(f_n).$$\n"
   ]
  },
  {
   "cell_type": "markdown",
   "metadata": {
    "slideshow": {
     "slide_type": "slide"
    }
   },
   "source": [
    "## Disclaimer\n",
    "\n",
    "The full theory of Lebesgue spaces and integral will require 10+ pages of text.\n",
    "\n",
    "(i.e. the definition is informal)."
   ]
  },
  {
   "cell_type": "markdown",
   "metadata": {
    "slideshow": {
     "slide_type": "slide"
    }
   },
   "source": [
    "## Complete metric spaces\n",
    "From now on we will assume that all the spaces are **complete**.\n",
    "\n",
    "If they are not, they can be **completed** and **generalized function spaces** appear.\n",
    "\n",
    "This makes proving things much easier, and extends standard definitions (for example, integrals)\n",
    "\n",
    "from continious to discontinious functions and even **measures**."
   ]
  },
  {
   "cell_type": "markdown",
   "metadata": {
    "slideshow": {
     "slide_type": "slide"
    }
   },
   "source": [
    "## Compact sets\n",
    "\n",
    "One more definition for today: **Compact set.** (and a **bicompact set**)\n",
    "\n",
    "A set $X$ is bicompact, if any sequence $x_n \\in X$ has a convergent subsequence, whose limit is in $X$.\n",
    "\n",
    "A set $X$ is compact, if any sequence $x_n \\in X$ has a fundamental subsequence.\n",
    "\n",
    "Lemma 1: Any bicompact set is closed.\n",
    "\n",
    "Lemma 2: Any bicompact is compact.\n",
    "\n",
    "Q1: Is bicompact set bounded?\n",
    "\n",
    "Q2: Is compact set bounded?"
   ]
  },
  {
   "cell_type": "markdown",
   "metadata": {
    "slideshow": {
     "slide_type": "slide"
    }
   },
   "source": [
    "## Hausdorf theorem\n",
    "\n",
    "Epsilon-net: Set $K_{\\epsilon}$ is called Epsilon-net, if for any $x$ there is $y \\in K_{\\epsilon}$ such that \n",
    "\n",
    "$$\\rho(x, y) \\leq \\varepsilon.$$\n",
    "\n",
    "<img src='epsilon-net.png' width=60%> </img>\n",
    "\n",
    "**Theorem (Hausdorf):** Set $K$ in metric space $X$ is **compact**, iff\n",
    "\n",
    "For any $\\epsilon > 0$ is has finite epsilon-net.\n",
    "\n"
   ]
  },
  {
   "cell_type": "markdown",
   "metadata": {
    "slideshow": {
     "slide_type": "slide"
    }
   },
   "source": [
    "## Sufficiency\n",
    "\n",
    "Suppose for any $\\epsilon$ the net exists; \n",
    "\n",
    "Idea: Take any convergent sequence $\\epsilon_n$, there always exist a ball that contains infinite number of points, taking subsequences successively we arrive at subsequence that satisfies the definition of fundamental one.\n",
    "\n",
    "(Whiteboard clarification needed)."
   ]
  },
  {
   "cell_type": "markdown",
   "metadata": {
    "slideshow": {
     "slide_type": "slide"
    }
   },
   "source": [
    "## Necessity\n",
    "\n",
    "Take $x_1$. If for all $x$ we have $\\rho(x, x_1) > \\epsilon$, then we are done. Otherwise, \n",
    "we have $x_2$ such that $\\rho(x_1, x_2) > \\epsilon$. \n",
    "\n",
    "Now if this is not an epsilon-net, we add $x_3$ and so on. If we do not stop, we have \n",
    "infinite sequence $x_n$ such that $\\rho(x_n, x_m) \\geq \\epsilon$ for any $n, m$.\n",
    "This contradicts the compactness of $X$ (any subsequence is not fundamental).\n"
   ]
  },
  {
   "cell_type": "markdown",
   "metadata": {
    "slideshow": {
     "slide_type": "slide"
    }
   },
   "source": [
    "## Epsilon-nets and information theory\n",
    "\n",
    "Hausdorf theorem is very deep: it gives $\\epsilon$-accurate description of elements of $K$ with finite number of elements!\n",
    "\n",
    "The number $\\log_2 N_{\\epsilon}$, where $N_{\\epsilon}$ is the size of the **minimal** epsilon-net is called $\\epsilon$-entropy of the set $K$.\n",
    "\n",
    "This is the information bound and gives the minimal number of \"bits\" to represent the compact set, \n",
    "\n",
    "given the similarity measure and the accuracy.\n",
    "\n"
   ]
  },
  {
   "cell_type": "code",
   "execution_count": 5,
   "metadata": {
    "collapsed": false,
    "slideshow": {
     "slide_type": "skip"
    }
   },
   "outputs": [
    {
     "data": {
      "text/html": [
       "<link href='http://fonts.googleapis.com/css?family=Fenix' rel='stylesheet' type='text/css'>\n",
       "<link href='http://fonts.googleapis.com/css?family=Alegreya+Sans:100,300,400,500,700,800,900,100italic,300italic,400italic,500italic,700italic,800italic,900italic' rel='stylesheet' type='text/css'>\n",
       "<link href='http://fonts.googleapis.com/css?family=Source+Code+Pro:300,400' rel='stylesheet' type='text/css'>\n",
       "<style>\n",
       "    @font-face {\n",
       "        font-family: \"Computer Modern\";\n",
       "        src: url('http://mirrors.ctan.org/fonts/cm-unicode/fonts/otf/cmunss.otf');\n",
       "    }\n",
       "    div.cell{\n",
       "        /*width:80%;*/\n",
       "        /*margin-left:auto !important;\n",
       "        margin-right:auto;*/\n",
       "    }\n",
       "    h1 {\n",
       "        font-family: 'Alegreya Sans', sans-serif;\n",
       "    }\n",
       "    h2 {\n",
       "        font-family: 'Fenix', serif;\n",
       "    }\n",
       "    h3{\n",
       "\t\tfont-family: 'Fenix', serif;\n",
       "        margin-top:12px;\n",
       "        margin-bottom: 3px;\n",
       "       }\n",
       "\th4{\n",
       "\t\tfont-family: 'Fenix', serif;\n",
       "       }\n",
       "    h5 {\n",
       "        font-family: 'Alegreya Sans', sans-serif;\n",
       "    }\t   \n",
       "    div.text_cell_render{\n",
       "/*        font-family: 'Alegreya Sans',Computer Modern, \"Helvetica Neue\", Arial, Helvetica, Geneva, sans-serif;*/\n",
       "        line-height: 1.2;\n",
       "        font-size: 120%;\n",
       "        /*width:70%;*/\n",
       "        /*margin-left:auto;*/\n",
       "        margin-right:auto;\n",
       "        color: black;\n",
       "    }\n",
       "    .CodeMirror{\n",
       "            font-family: \"Source Code Pro\";\n",
       "\t\t\tfont-size: 90%;\n",
       "    }\n",
       "/*    .prompt{\n",
       "        display: None;\n",
       "    }*/\n",
       "    .text_cell_render h1 {\n",
       "        font-weight: 200;\n",
       "        font-size: 50pt;\n",
       "\t\tline-height: 110%;\n",
       "        color: #CD2305;\n",
       "        margin-bottom: 0.5em;\n",
       "        margin-top: 0.5em;\n",
       "        display: block;\n",
       "    }\t\n",
       "    .text_cell_render h5 {\n",
       "        font-weight: 300;\n",
       "        font-size: 16pt;\n",
       "        color: #CD2305;\n",
       "        font-style: italic;\n",
       "        margin-bottom: .5em;\n",
       "        margin-top: 0.5em;\n",
       "        display: block;\n",
       "    }\n",
       "    \n",
       "    li {\n",
       "        line-height: 110%;\n",
       "    }\n",
       "    .warning{\n",
       "        color: rgb( 240, 20, 20 )\n",
       "        }  \n",
       "</style>\n",
       "<script>\n",
       "    MathJax.Hub.Config({\n",
       "                        TeX: {\n",
       "                           extensions: [\"AMSmath.js\"]\n",
       "                           },\n",
       "                tex2jax: {\n",
       "                    inlineMath: [ ['$','$'], [\"\\\\(\",\"\\\\)\"] ],\n",
       "                    displayMath: [ ['$$','$$'], [\"\\\\[\",\"\\\\]\"] ]\n",
       "                },\n",
       "                displayAlign: 'center', // Change this to 'center' to center equations.\n",
       "                \"HTML-CSS\": {\n",
       "                    styles: {'.MathJax_Display': {\"margin\": 4}}\n",
       "                }\n",
       "        });\n",
       "</script>\n"
      ],
      "text/plain": [
       "<IPython.core.display.HTML object>"
      ]
     },
     "execution_count": 5,
     "metadata": {},
     "output_type": "execute_result"
    }
   ],
   "source": [
    "from IPython.core.display import HTML\n",
    "def css_styling():\n",
    "    styles = open(\"./styles/custom.css\", \"r\").read()\n",
    "    return HTML(styles)\n",
    "css_styling()"
   ]
  },
  {
   "cell_type": "code",
   "execution_count": null,
   "metadata": {
    "collapsed": true
   },
   "outputs": [],
   "source": []
  }
 ],
 "metadata": {
  "celltoolbar": "Slideshow",
  "kernelspec": {
   "display_name": "Python 2",
   "language": "python",
   "name": "python2"
  },
  "language_info": {
   "codemirror_mode": {
    "name": "ipython",
    "version": 2
   },
   "file_extension": ".py",
   "mimetype": "text/x-python",
   "name": "python",
   "nbconvert_exporter": "python",
   "pygments_lexer": "ipython2",
   "version": "2.7.12"
  }
 },
 "nbformat": 4,
 "nbformat_minor": 0
}
