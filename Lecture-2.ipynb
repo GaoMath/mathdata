{
 "cells": [
  {
   "cell_type": "markdown",
   "metadata": {
    "slideshow": {
     "slide_type": "slide"
    }
   },
   "source": [
    "# Lecture 2\n",
    "# 1. Contraction mapping principle"
   ]
  },
  {
   "cell_type": "markdown",
   "metadata": {
    "slideshow": {
     "slide_type": "slide"
    }
   },
   "source": [
    "## Contraction\n",
    "\n",
    "Let $\\bf{X}$ be complete metric space and $\\Omega$ be a closed set in $\\bf{X}$.\n",
    "Let $F$ be mapping $F: \\Omega \\to \\Omega$. \n",
    "\n",
    "Our goal is to find **stationary point** $u$ such that $u = F(u)$. \n",
    "\n",
    "**Definition.** Mapping $F: \\Omega \\to \\Omega$ is called contraction \n",
    "if Lipschitz continuity condition holds\n",
    "\n",
    "$$\n",
    "    \\rho(F(x), F(y)) \\leq \\alpha \\rho(x, y), \\quad 0 \\leq \\alpha < 1\n",
    "$$"
   ]
  },
  {
   "cell_type": "markdown",
   "metadata": {
    "slideshow": {
     "slide_type": "slide"
    }
   },
   "source": [
    "## Contraction mapping principle\n",
    "\n",
    "Let us run iterative process (fixed-point iteration)\n",
    "$$\n",
    "    u^{k+1} = F(u^k),\n",
    "$$\n",
    "where $u_0\\in \\Omega$.\n",
    "\n",
    "**Theorem** (Contraction mapping principle, Banach fixed-point theorem)\n",
    "\n",
    "1. If $F$ is contraction on $\\Omega$, then equation $u=F(u)$ has unique solution, which can be obtained as a limit of $u^{k+1} = F(u^k)$.\n",
    "2. The convergence rate can be estimated as\n",
    "$$\n",
    "    \\rho (u^{k+1}, u) \\leq \\frac{\\alpha^k}{1-\\alpha}\\, \\rho (u^{1}, u^{0})\n",
    "$$"
   ]
  },
  {
   "cell_type": "markdown",
   "metadata": {
    "slideshow": {
     "slide_type": "slide"
    }
   },
   "source": [
    "Proof:\n",
    "\n",
    "**Existence.** By triangle inequality $$ \\rho(u^{k+p}, u^{k}) \\leq \\rho(u^{k+p}, u^{k+p-1}) + \\rho(u^{k+p-1}, u^{k+p-2}) + \\dots + \\rho(u^{k+1}, u^{k}). $$\n",
    "\n",
    "Note that $$\\rho(u^{k+1}, u^{k})\\leq \\alpha \\rho(u^{k}, u^{k-1}) \\leq \\dots \\leq \\alpha^k \\rho(u^{1}, u^{0}).$$\n",
    "\n",
    "Hence we get\n",
    "$$ \\rho(u^{k+p}, u^{k}) \\leq (\\alpha^{k+p-1} + \\dots + \\alpha^{k}) \\rho(u^{1}, u^{0}) \\leq \\alpha^{k} \\rho(u^{1}, u^{0})\\sum_{i=0}^\\infty \\alpha^i = $$\n",
    "$$\n",
    "\\frac{\\alpha^k}{1-\\alpha}\\, \\rho (u^{1}, u^{0}) \\quad \\quad (1)\n",
    "$$\n",
    "\n",
    "Hence $u^k$ is fundamental and converges to a limit in $u\\in \\bf{X}$. However, $u^k\\in \\Omega$ and $\\Omega$ is closed, so $u \\in \\Omega$.\n",
    "Finally,\n",
    "$$\n",
    "    0 \\leq \\rho (u^{k+1}, F(u)) = \\rho (F(u^{k}), F(u)) \\leq \\alpha \\rho (u^k, u) \\to 0.\n",
    "$$\n",
    "Therefore, $\\rho (u^{k+1}, F(u))\\to 0$ and $u = F(u)$, so $u$ is a solution.\n",
    "\n",
    "**Uniqueness.** \n",
    "$\\rho(u, U) = \\rho(F(u), F(U)) \\leq \\alpha \\rho (u, U)$, so $\\rho (u, U) = 0$ and $u=U$.\n",
    "\n",
    "**Convergence rate**\n",
    "Setting $p\\to \\infty$ in (1) we obtain required estimate."
   ]
  },
  {
   "cell_type": "markdown",
   "metadata": {
    "slideshow": {
     "slide_type": "slide"
    }
   },
   "source": [
    "## Discussion of the theorem\n",
    "\n",
    "Theorem conditions can not be relaxed to $\\rho(F(x), F(y)) < \\rho(x, y)$.\n",
    "\n",
    "Indeed, consider ${\\bf X} = \\Omega = \\mathbb{R}$, $\\rho(x, y) = |x-y|$.\n",
    "Check that $F(x) = |x| + (1+|x|)^{-1}$ has no stationary points.\n",
    "\n",
    "Q: Why is it crucial that $\\bf{X}$ is complete?"
   ]
  },
  {
   "cell_type": "markdown",
   "metadata": {
    "slideshow": {
     "slide_type": "slide"
    }
   },
   "source": [
    "## Example 1\n",
    "\n",
    "Equation $f(x) = 0$, $x\\in \\mathbb{R}$.\n",
    "\n",
    "Reformulate as $x = F(x)$, where $F$ is contraction.\n",
    "\n",
    "For instance, $F(x) = x - \\alpha(x) f(x)$. \n",
    "\n",
    "Different choices of $\\alpha$ lead to different methods, e.g $\\alpha(x) = 1/f'(x)$ yields Newton method."
   ]
  },
  {
   "cell_type": "markdown",
   "metadata": {
    "slideshow": {
     "slide_type": "slide"
    }
   },
   "source": [
    "## Example 2\n",
    "\n",
    "System of linear equations $Ax = f$.\n",
    "Simplest fixed-point iteration:\n",
    "\n",
    "$$\n",
    "    x^{k+1} = F(x^k) \\equiv x^k - (Ax^k - f).\n",
    "$$\n",
    "Choosing metric $\\rho(x,y) = \\max_i |x_i - y_i|$ and taking into account that  \n",
    "\n",
    "$$\n",
    "    F(x) - F(y) = (I - A) (x-y)\n",
    "$$\n",
    "\n",
    "we get\n",
    "\n",
    "$$\n",
    "    \\rho(F(x), F(y)) = \\max_i \\left| \\sum_{j=1}^n \\alpha_{ij} (x_j - y_j) \\right| \\leq \\max_i \\sum_{j=1}^n |\\alpha_{ij}| \\max_j |x_j - y_j|\n",
    "    = \\left(\\max_i \\sum_{j=1}^n |\\alpha_{ij}|\\right) \\rho(x, y).\n",
    "$$\n",
    "where $\\alpha_{ij}$ are elements of $I - A$.\n",
    "So, if $\\sum_{j=1}^n |\\alpha_{ij}|<1$, by contraction mapping principle the method conveges."
   ]
  },
  {
   "cell_type": "markdown",
   "metadata": {
    "slideshow": {
     "slide_type": "slide"
    }
   },
   "source": [
    "## Anderson acceleration\n",
    "\n",
    "Convergence of the fixed point iteration $u^{k+1} = F(u^k)$ can be improved by a trick called **Anderson acceleration**.\n",
    "\n",
    "It is widely used e.g. in quantum chemstry (known as DIIS or Pulay mixing).\n",
    "\n",
    "Compared to Newton method no Jacobian is required."
   ]
  },
  {
   "cell_type": "markdown",
   "metadata": {
    "slideshow": {
     "slide_type": "fragment"
    }
   },
   "source": [
    "** Algorithm:**\n",
    "\n",
    "Choose m - size of mixing <br>\n",
    "**for** k = 1, 2, ...\n",
    "1. Set $m_k = \\min(m, k)$\n",
    "2. Find residuals $r^k = u^{k} - F(u^{k})$\n",
    "3. Find $\\alpha_0, \\dots, \\alpha_{m_k}$ from $$\\min_{\\alpha_0, \\dots, \\alpha_{m_k}} \\| \\alpha_0 r^{k-m_k} + \\dots + \\alpha_{m_k} r^{k} \\|_2$$\n",
    "4. Set $u^{k+1} = \\alpha_0 F(u^{k-m_k}) + \\dots + \\alpha_{m_k} F(u^{k})$."
   ]
  },
  {
   "cell_type": "markdown",
   "metadata": {
    "slideshow": {
     "slide_type": "slide"
    }
   },
   "source": [
    "# 2. Vector spaces"
   ]
  },
  {
   "cell_type": "markdown",
   "metadata": {
    "slideshow": {
     "slide_type": "slide"
    }
   },
   "source": [
    "## Vector space (linear space)\n",
    "\n",
    "Set $E$ is called vector space (linear space) if two operations are introduced:\n",
    "1. $\\forall x,y \\in E$ it holds $x+y\\in E$\n",
    "2. $\\forall x$ and $\\alpha \\in \\mathbb{R}$ it holds $\\alpha x \\in E$"
   ]
  },
  {
   "cell_type": "markdown",
   "metadata": {
    "slideshow": {
     "slide_type": "fragment"
    }
   },
   "source": [
    "Moreover, there are additional axioms:\n",
    "\n",
    "1. $x+y = y+x$\n",
    "2. $x+(y+z) = (x+y) + z$\n",
    "3. There exists elemnt $0$ such that $x+ 0 = x$\n",
    "4. $\\alpha (\\beta x) = (\\alpha\\beta) x$\n",
    "5. $1\\cdot x = x$, $0\\cdot x = {\\bf x}$\n",
    "6. $\\alpha(x+y) = \\alpha x + \\alpha y$\n",
    "7. $(\\alpha + \\beta) x = \\alpha x + \\beta x$\n",
    "\n",
    "Examples?"
   ]
  },
  {
   "cell_type": "markdown",
   "metadata": {
    "slideshow": {
     "slide_type": "fragment"
    }
   },
   "source": [
    "$C([a,b]), \\quad L_p (a,b),\\quad \\mathbb{R}^n,\\quad l_p$"
   ]
  },
  {
   "cell_type": "markdown",
   "metadata": {
    "slideshow": {
     "slide_type": "slide"
    }
   },
   "source": [
    "## Some definitions\n",
    "\n",
    "**Def:** $E_1$ is a subspace of vector space $E$ if $E_1\\subset E$ and $\\forall x,y\\in E_1$, it holds $\\alpha x + \\beta y \\in E_1$.\n",
    "\n",
    "**Def:** Finite system $x_1,\\dots, x_n$ is linearly independent if $\\sum_i \\alpha_i x_i = 0$ holds only when $\\alpha_i=0$, $i=1,\\dots,n$.\n",
    "\n",
    "**Def:** Infinite system $x_1,\\dots, x_n, \\dots$ is linearly independent if any finite subsequence is linear dependent."
   ]
  },
  {
   "cell_type": "markdown",
   "metadata": {
    "slideshow": {
     "slide_type": "fragment"
    }
   },
   "source": [
    "## Infinite dimensional spaces\n",
    "\n",
    "**Def:** Vector space is called finite-dimensional is there exists finite basis system.\n",
    "\n",
    "**Def:** Vector space is called infinite-dimensional if it is not finite-dimensional."
   ]
  },
  {
   "cell_type": "markdown",
   "metadata": {
    "slideshow": {
     "slide_type": "slide"
    }
   },
   "source": [
    "# 3. Banach spaces"
   ]
  },
  {
   "cell_type": "markdown",
   "metadata": {
    "slideshow": {
     "slide_type": "slide"
    }
   },
   "source": [
    "## Normed vector space\n",
    "\n",
    "Vector space ${\\bf X}$ is called normed vector space if there introduced function $\\|\\cdot \\|: {\\bf X} \\to \\mathbb{R}$ that satisfies\n",
    "1. $\\| x \\| \\geq 0$;\n",
    "2. If $\\| x\\| = 0$ then $x = 0$;\n",
    "3. $\\|\\alpha x\\| = |\\alpha| \\|x\\|$;\n",
    "4. $\\|x+y\\| \\leq \\|x\\| + \\|y\\|$."
   ]
  },
  {
   "cell_type": "markdown",
   "metadata": {
    "slideshow": {
     "slide_type": "slide"
    }
   },
   "source": [
    "## Banach spaces\n",
    "\n",
    "In any normed space metric $\\rho(x,y) = \\|x - y\\|$ can be introduced.\n",
    "\n",
    "So, we can transfer concept of complete metric spaces to normed spaces.\n",
    "\n",
    "**Def:** Complete normed vector space is called **Banach space** or simply B-space."
   ]
  },
  {
   "cell_type": "markdown",
   "metadata": {
    "slideshow": {
     "slide_type": "slide"
    }
   },
   "source": [
    "## Examples\n",
    "\n",
    "Banach spaces:\n",
    "\n",
    "1. $l_1$: $\\|x\\| = \\sum_i |x_i|$;\n",
    "2. $l_2$: $\\|x\\| = \\left(\\sum_i |x_i|^2\\right)^{1/2}$;\n",
    "3. $l_\\infty$: $\\|x\\| = \\sup_i |x_i|$;\n",
    "4. $L_1(a,b)$: $\\|f\\| = \\int_a^b |f(x)|\\, dx$;\n",
    "5. $L_2(a,b)$: $\\|f\\| = \\left(\\int_a^b |f(x)|^2\\, dx\\right)^{1/2}$;\n",
    "6. $C([a,b])$: $\\|f\\| = \\sup_{x\\in[a,b]} |f(x)|$"
   ]
  },
  {
   "cell_type": "markdown",
   "metadata": {
    "slideshow": {
     "slide_type": "slide"
    }
   },
   "source": [
    "## Basis in B-spaces\n",
    "System $\\{x_i\\}\\in B$ - Banach space is called **complete** if closure of its span is precisely $B$.\n",
    "\n",
    "**Def:** A set $\\{e_i\\}\\in B$ is called basis if for any $x\\in B$ there exists a unique sequence $\\{\\alpha_i\\}$ such that\n",
    "$$\n",
    "    x = \\sum_{i=1}^\\infty \\alpha_i x_i.\n",
    "$$\n",
    "(infite series is defined as a limit of partial sums $S_n=\\sum_{i=1}^n x_i$ when $n\\to \\infty$.)\n",
    "\n",
    "**Statement:** If system $\\{e_i\\}\\in B$ forms basis, then it is complete and linearly independent."
   ]
  },
  {
   "cell_type": "markdown",
   "metadata": {
    "slideshow": {
     "slide_type": "slide"
    }
   },
   "source": [
    "# 4. Hilbert spaces"
   ]
  },
  {
   "cell_type": "markdown",
   "metadata": {
    "slideshow": {
     "slide_type": "slide"
    }
   },
   "source": [
    "## Euclidean spaces\n",
    "\n",
    "Vector space $E$ is called **Euclidean** if every pair $x,y\\in E$ is associated with a number $(x,y)$ called **scalar product**, which satisfies\n",
    "\n",
    "1. $(x,x) \\geq 0$ and $(x,x)=0$ iff $x=0$;\n",
    "2. $(x,y) = (y,x)$;\n",
    "3. $(\\alpha x,y) = \\alpha (x,y)$;\n",
    "4. $(x+y,z) = (x,z) + (y,z)$.\n",
    "\n",
    "In Euclidean space norm can be introduced:\n",
    "$$\n",
    "    \\|x\\| = (x,x)^{1/2}\n",
    "$$"
   ]
  },
  {
   "cell_type": "markdown",
   "metadata": {
    "slideshow": {
     "slide_type": "slide"
    }
   },
   "source": [
    "## Cauchy–Bunyakovsky–Schwarz inequality\n",
    "\n",
    "**Statement:** $\\forall x,y \\in E$ it holds $|(x,y)|\\leq \\|x\\|\\, \\|y\\|$.\n",
    "\n",
    "Proof: \n",
    "\n",
    "consider $(x-\\lambda y, x-\\lambda y)\\geq$ and check when it holds for all $\\lambda$."
   ]
  },
  {
   "cell_type": "markdown",
   "metadata": {
    "slideshow": {
     "slide_type": "slide"
    }
   },
   "source": [
    "## Hilbert spaces\n",
    "\n",
    "**Def:** Complete Euclidean space is called **Hilbert.** We will denote Hilbert spaces as $H$.\n",
    "\n",
    "Examples:\n",
    "1. $l_2$: $(x,y) = \\sum_i x_i, y_i$;\n",
    "\n",
    "2. $L_2(a,b)$: $(f,g) = \\int_a^b f(x) g(x)\\, dx$;"
   ]
  },
  {
   "cell_type": "markdown",
   "metadata": {
    "slideshow": {
     "slide_type": "fragment"
    }
   },
   "source": [
    "Hilbert spaces are linear, normed, Banach and metric. \n",
    "\n",
    "So all definitions and results for these spaces automatically transfer to Hilbert spaces."
   ]
  },
  {
   "cell_type": "markdown",
   "metadata": {
    "slideshow": {
     "slide_type": "slide"
    }
   },
   "source": [
    "## Weak and strong convergences\n",
    "\n",
    "We can also introduce new definitions:\n",
    "\n",
    "**Def:** $x_n$ converges to $x$ weakly ($x_n\\leadsto x$) if $(x_n,f) \\to (x,f)$ for all $f\\in H$.\n",
    "\n",
    "**Def:** $x_n$ converges to $x$ strongly if $\\|x_n - x\\|\\to 0$.\n",
    "\n",
    "Example: $\\sin nx \\leadsto 0$ in $L_2(0,\\pi)$ (Riemann–Lebesgue lemma), but there is no limit in terms of stong convergence."
   ]
  },
  {
   "cell_type": "markdown",
   "metadata": {
    "slideshow": {
     "slide_type": "slide"
    }
   },
   "source": [
    "**Statement:** If $x_n \\leadsto a$ and $x_n \\leadsto b$ then $a=b$\n",
    "\n",
    "**Statement:** If $x_n \\leadsto x$ and $\\|x_n\\|\\to \\|x\\|$, then $x_n$ strongly converges to $x$.\n",
    "\n",
    "Proof:\n",
    "\n",
    "$\\|x_n - x\\|^2 = \\|x_n\\|^2 + \\|x\\|^2 - 2 (x_n, x) \\to \\|x\\|^2 + \\|x\\|^2 - 2 (x, x) = 0.$"
   ]
  },
  {
   "cell_type": "markdown",
   "metadata": {
    "slideshow": {
     "slide_type": "slide"
    }
   },
   "source": [
    "## Orthgonality\n",
    "\n",
    "**Def:** $x,y\\in H$ are said to be orthogonal if $(x,y) = 0$.\n",
    "\n",
    "**Def:** Set $H'\\subset H$ is called orthognal system if all elements are pairwise orthogonal."
   ]
  },
  {
   "cell_type": "markdown",
   "metadata": {
    "heading_collapsed": true,
    "slideshow": {
     "slide_type": "slide"
    }
   },
   "source": [
    "## Fourier series\n",
    "\n",
    "Let $\\{ \\phi_i \\}_1^\\infty$ be orthogonal system and let $x\\in H$.\n",
    "\n",
    "Define $C_k = \\frac{(x,\\phi_k)}{\\|\\phi_k\\|}$ (Fourier coefficients).\n",
    "\n",
    "Series $\\sum_{i=1}^\\infty C_k \\phi_k$ will be formally called **Fourier series** and $\\sum_{i=1}^n C_k \\phi_k$ **Fourier polynomial** of $x$."
   ]
  },
  {
   "cell_type": "markdown",
   "metadata": {
    "slideshow": {
     "slide_type": "slide"
    }
   },
   "source": [
    "## Best approximant\n",
    "\n",
    "Let $L_n = span\\{\\phi_1,\\dots,\\phi_n\\}$. \n",
    "\n",
    "Our goal is to prove that Fourier polynomial is the best approximant of \n",
    "$$\n",
    "    \\inf_{x_n\\in L_n} \\|x - x_n\\|\n",
    "$$"
   ]
  },
  {
   "cell_type": "markdown",
   "metadata": {
    "slideshow": {
     "slide_type": "fragment"
    }
   },
   "source": [
    "Since $x_n \\in L_n$ there exist $\\alpha_i$: $x_n = \\alpha_1 \\phi_1 + \\dots + \\alpha_n \\phi_n$.\n",
    "\n",
    "$$\\|x - x_n\\|^2 = (x,x) - 2 \\sum_{k=1}^n \\alpha_k (x,\\phi_k) + \\sum_{k=1}^n \\alpha_k^2 (\\phi_k,\\phi_k)$$.\n",
    "\n",
    "Note that $(x,\\phi_k) = C_k \\|\\phi_k\\|^2$, so (check)\n",
    "\n",
    "$$ \\|x - x_n\\|^2 = \\|x\\|^2 - \\sum_{k=1}^n C_k^2 \\|\\phi_k\\|^2 + \\sum_{k=1}^n (\\alpha_k - C_k)^2 \\|\\phi_k\\|^2.$$\n",
    "\n",
    "So, obviously minimum is achieved when $\\alpha_k = C_k$. This property is called **minimal property** of Fourier coefficients."
   ]
  },
  {
   "cell_type": "markdown",
   "metadata": {
    "slideshow": {
     "slide_type": "slide"
    }
   },
   "source": [
    "# Homework\n",
    "\n",
    "1. Write Newton's method for the equation $f(x) = x^2 - a = 0$, where $a>0$ is a given constant. <br>\n",
    "Find a region where should be the starting point $x_0$ such that the method converges. <br>\n",
    "**Note:** Use fixed-point theorem.\n",
    "\n",
    "2. Let $x_n$ and $y_n$ be sequences such that $\\|x_n\\|\\leq 1$ and $\\|y_n\\|\\leq 1$, $(x_n,y_n)\\to 1$. Prove that $\\|x_n - y_n\\|\\to 0$.\n",
    "\n",
    "3. Let $\\phi_k$ be orthogonal system in $H$, $x\\in H$ and $C_k$ be Fourier coefficients. Prove that if $n>m$, then \n",
    "$$\n",
    "    \\| x - \\sum_{k=1}^n C_k \\phi_k \\| \\leq \\| x - \\sum_{k=1}^m C_k \\phi_k \\| \n",
    "$$\n",
    "\n",
    "4. Let $D_1\\supset D_2\\supset \\dots$ be a sequence of nested closed balls in Banach space. <br> Prove that their intersection is not empty."
   ]
  },
  {
   "cell_type": "code",
   "execution_count": 1,
   "metadata": {
    "collapsed": false
   },
   "outputs": [
    {
     "data": {
      "text/html": [
       "<link href='http://fonts.googleapis.com/css?family=Fenix' rel='stylesheet' type='text/css'>\n",
       "<link href='http://fonts.googleapis.com/css?family=Alegreya+Sans:100,300,400,500,700,800,900,100italic,300italic,400italic,500italic,700italic,800italic,900italic' rel='stylesheet' type='text/css'>\n",
       "<link href='http://fonts.googleapis.com/css?family=Source+Code+Pro:300,400' rel='stylesheet' type='text/css'>\n",
       "<style>\n",
       "    @font-face {\n",
       "        font-family: \"Computer Modern\";\n",
       "        src: url('http://mirrors.ctan.org/fonts/cm-unicode/fonts/otf/cmunss.otf');\n",
       "    }\n",
       "    div.cell{\n",
       "        /*width:80%;*/\n",
       "        /*margin-left:auto !important;\n",
       "        margin-right:auto;*/\n",
       "    }\n",
       "    h1 {\n",
       "        font-family: 'Alegreya Sans', sans-serif;\n",
       "    }\n",
       "    h2 {\n",
       "        font-family: 'Fenix', serif;\n",
       "    }\n",
       "    h3{\n",
       "\t\tfont-family: 'Fenix', serif;\n",
       "        margin-top:12px;\n",
       "        margin-bottom: 3px;\n",
       "       }\n",
       "\th4{\n",
       "\t\tfont-family: 'Fenix', serif;\n",
       "       }\n",
       "    h5 {\n",
       "        font-family: 'Alegreya Sans', sans-serif;\n",
       "    }\t   \n",
       "    div.text_cell_render{\n",
       "/*        font-family: 'Alegreya Sans',Computer Modern, \"Helvetica Neue\", Arial, Helvetica, Geneva, sans-serif;*/\n",
       "        line-height: 1.2;\n",
       "        font-size: 120%;\n",
       "        /*width:70%;*/\n",
       "        /*margin-left:auto;*/\n",
       "        margin-right:auto;\n",
       "        color: black;\n",
       "    }\n",
       "    .CodeMirror{\n",
       "            font-family: \"Source Code Pro\";\n",
       "\t\t\tfont-size: 90%;\n",
       "    }\n",
       "/*    .prompt{\n",
       "        display: None;\n",
       "    }*/\n",
       "    .text_cell_render h1 {\n",
       "        font-weight: 200;\n",
       "        font-size: 50pt;\n",
       "\t\tline-height: 110%;\n",
       "        color: #CD2305;\n",
       "        margin-bottom: 0.5em;\n",
       "        margin-top: 0.5em;\n",
       "        display: block;\n",
       "    }\t\n",
       "    .text_cell_render h5 {\n",
       "        font-weight: 300;\n",
       "        font-size: 16pt;\n",
       "        color: #CD2305;\n",
       "        font-style: italic;\n",
       "        margin-bottom: .5em;\n",
       "        margin-top: 0.5em;\n",
       "        display: block;\n",
       "    }\n",
       "    \n",
       "    li {\n",
       "        line-height: 110%;\n",
       "    }\n",
       "    .warning{\n",
       "        color: rgb( 240, 20, 20 )\n",
       "        }  \n",
       "</style>\n",
       "<script>\n",
       "    MathJax.Hub.Config({\n",
       "                        TeX: {\n",
       "                           extensions: [\"AMSmath.js\"]\n",
       "                           },\n",
       "                tex2jax: {\n",
       "                    inlineMath: [ ['$','$'], [\"\\\\(\",\"\\\\)\"] ],\n",
       "                    displayMath: [ ['$$','$$'], [\"\\\\[\",\"\\\\]\"] ]\n",
       "                },\n",
       "                displayAlign: 'center', // Change this to 'center' to center equations.\n",
       "                \"HTML-CSS\": {\n",
       "                    styles: {'.MathJax_Display': {\"margin\": 4}}\n",
       "                }\n",
       "        });\n",
       "</script>\n"
      ],
      "text/plain": [
       "<IPython.core.display.HTML object>"
      ]
     },
     "execution_count": 1,
     "metadata": {},
     "output_type": "execute_result"
    }
   ],
   "source": [
    "from IPython.core.display import HTML\n",
    "def css_styling():\n",
    "    styles = open(\"./styles/custom.css\", \"r\").read()\n",
    "    return HTML(styles)\n",
    "css_styling()"
   ]
  }
 ],
 "metadata": {
  "celltoolbar": "Slideshow",
  "kernelspec": {
   "display_name": "Python 2",
   "language": "python",
   "name": "python2"
  },
  "language_info": {
   "codemirror_mode": {
    "name": "ipython",
    "version": 2
   },
   "file_extension": ".py",
   "mimetype": "text/x-python",
   "name": "python",
   "nbconvert_exporter": "python",
   "pygments_lexer": "ipython2",
   "version": "2.7.12"
  },
  "nav_menu": {},
  "toc": {
   "navigate_menu": true,
   "number_sections": false,
   "sideBar": true,
   "threshold": 6,
   "toc_cell": false,
   "toc_section_display": "block",
   "toc_window_display": false
  }
 },
 "nbformat": 4,
 "nbformat_minor": 0
}
