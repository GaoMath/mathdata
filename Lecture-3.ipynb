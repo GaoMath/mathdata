{
 "cells": [
  {
   "cell_type": "markdown",
   "metadata": {
    "heading_collapsed": true,
    "slideshow": {
     "slide_type": "slide"
    }
   },
   "source": [
    "# Lecture 3"
   ]
  },
  {
   "cell_type": "markdown",
   "metadata": {
    "hidden": true,
    "slideshow": {
     "slide_type": "slide"
    }
   },
   "source": [
    "## Previous lectures\n",
    "\n",
    "- Metric spaces, complete metric spaces\n",
    "- Vector spaces, Banach, Euclidean, Hilbert spaces,  contraction principle, Cauchy-Bunyakovski inequality"
   ]
  },
  {
   "cell_type": "markdown",
   "metadata": {
    "hidden": true,
    "slideshow": {
     "slide_type": "slide"
    }
   },
   "source": [
    "## Todays lecture\n",
    "- (end of) Orthogonal basis"
   ]
  },
  {
   "cell_type": "markdown",
   "metadata": {
    "hidden": true,
    "slideshow": {
     "slide_type": "slide"
    }
   },
   "source": [
    "## Orthogonal basis\n",
    "\n",
    "A set $x_1, x_2, \\ldots, $ forms an orthonormal system, \n",
    "\n",
    "if $$(x_i, x_j) = \\delta_{ij}, \\quad i, j = 1, \\ldots$$\n",
    "\n",
    "Q: Any examples of orthogonal bases?"
   ]
  },
  {
   "cell_type": "markdown",
   "metadata": {
    "hidden": true,
    "slideshow": {
     "slide_type": "slide"
    }
   },
   "source": [
    "## Examples of orthogonal bases\n",
    "\n",
    "1. Columns of orthogonal matrices in $\\mathbb{R}^n$ (i.e. $U^{\\top} U = I$.)\n",
    "2. Set of trigonometric functions $1, \\cos nt, \\sin nt$ forms an orthogonal system in $L_2(0, 2 \\pi)$\n",
    "3. Orthogonal polynomials, which can be obtained by the **orthogonalization process**"
   ]
  },
  {
   "cell_type": "markdown",
   "metadata": {
    "hidden": true,
    "slideshow": {
     "slide_type": "slide"
    }
   },
   "source": [
    "## Linear independence\n",
    "\n",
    "**Theorem** If $\\{ x_i \\}$ form an orthonormal system then this system is linearly independent.\n",
    "\n",
    "**Proof:** Suppose there exist numbers $\\lambda_1, \\ldots, \\lambda_k$ such that\n",
    "\n",
    "$$\\sum_{s=1}^M \\lambda_s x_{n_s} = 0.$$\n",
    "\n",
    "Then we take scalar product with $x_{n_s'}$ and get $\\lambda_{s'} = 0$."
   ]
  },
  {
   "cell_type": "markdown",
   "metadata": {
    "hidden": true,
    "slideshow": {
     "slide_type": "slide"
    }
   },
   "source": [
    "## Gram-Schmidt-Sonin orthogonalization\n",
    "The \"inverse\" is also true: any set of linearly independent elements from a Hilbert space $H$ can be orthogonalized.\n"
   ]
  },
  {
   "cell_type": "markdown",
   "metadata": {
    "hidden": true,
    "slideshow": {
     "slide_type": "slide"
    }
   },
   "source": [
    "## Construction of orthonormal basis\n",
    "\n",
    "Take $e_1 = \\frac{x_1}{\\Vert x_1 \\Vert}$, and then $e'_2 = x_2 - \\alpha e_1$ and select $\\alpha$ in such a way that \n",
    "\n",
    "$$(e_2, e_1) = 0.$$\n",
    "\n",
    "This uniquely defines $\\alpha = (x_2, e_1)$, and $\\Vert e'_2 \\Vert  > 0$ otherwise $x_1, x_2$ will be linearly dependent, \n",
    "and we can set $e_2 = \\frac{e'_2}{\\Vert e'_2 \\Vert}$.\n",
    "\n",
    "This process then continues:  $e'_3 = x_3 - \\alpha_1 e_1 - \\alpha_2 e_2$ and we need $(e'_3, e_1) = (e'_3, e_2) = 0$ which uniquely defines $\\alpha_1, \\alpha_2$"
   ]
  },
  {
   "cell_type": "markdown",
   "metadata": {
    "hidden": true,
    "slideshow": {
     "slide_type": "slide"
    }
   },
   "source": [
    "## Interesting applications\n",
    "\n",
    "1. Orthogonalization in matrix analysis (stability issues!)\n",
    "2. Orthogonal polynomial basis -- never use monomials for polynomial approximation!"
   ]
  },
  {
   "cell_type": "markdown",
   "metadata": {
    "hidden": true,
    "slideshow": {
     "slide_type": "slide"
    }
   },
   "source": [
    "## Example of polynomial expansions\n",
    "\n",
    "Take a function $f(x)$ and try to:\n",
    "\n",
    "$$ f(x) \\approx \\sum_{k=1}^N \\alpha_k x^k$$ \n",
    "\n",
    "or \n",
    "\n",
    "$$ f(x) \\approx \\sum_{k=1}^N \\alpha_k T_k(x), $$\n",
    "\n",
    "where $T_k(x)$ are **Chebyshev polynomials** (each is of $k$-th degree)."
   ]
  },
  {
   "cell_type": "code",
   "execution_count": 3,
   "metadata": {
    "collapsed": true,
    "hidden": true,
    "slideshow": {
     "slide_type": "slide"
    }
   },
   "outputs": [],
   "source": [
    "import numpy as np\n",
    "import matplotlib.pyplot as plt\n",
    "%matplotlib inline\n",
    "n = 1000\n"
   ]
  },
  {
   "cell_type": "markdown",
   "metadata": {
    "hidden": true,
    "slideshow": {
     "slide_type": "slide"
    }
   },
   "source": [
    "## Linear operators in Banach spaces"
   ]
  },
  {
   "cell_type": "markdown",
   "metadata": {
    "hidden": true,
    "slideshow": {
     "slide_type": "slide"
    }
   },
   "source": [
    "## Definition\n",
    "\n",
    "Let $X$ and $Y$ be two Banach spaces, and $A$ is a mapping from a subset $D(A) \\subset X$ to a subset $R(A)$ of $Y$.\n",
    "\n",
    "- $D(A)$ is called domain of definition of $A$\n",
    "- $R(A)$ is called range of values of $A$\n",
    "\n",
    "Operator $A$ from $X$ and $Y$ is called **linear operator** if \n",
    "\n",
    "$$A( \\lambda_1 x_1 + \\lambda_2 x_2) = \\lambda_1 A(x_1) + \\lambda_2 A(x_2)$$ \n",
    "\n",
    "for any $x_1, x_2 \\in D(A)$."
   ]
  },
  {
   "cell_type": "markdown",
   "metadata": {
    "hidden": true,
    "slideshow": {
     "slide_type": "slide"
    }
   },
   "source": [
    "## Theorem\n",
    "\n",
    "Domain of definition $D(A)$ of a linear operator is a linear space.\n",
    "\n",
    "Indeed, let $A x_1 = y_1, A x_2 = y_2$, from the definition; $ A(\\lambda_1 x_1 + \\lambda_2 x_2) = \\lambda_1 y_1 + \\lambda_2 y_2$, thus $\\lambda_1 x_1 + \\lambda_2 x_2 \\in D(A)$.\n",
    "\n",
    "Typically, either $D(A) = X$, or $\\overline{D(A)} = X$."
   ]
  },
  {
   "cell_type": "markdown",
   "metadata": {
    "hidden": true,
    "slideshow": {
     "slide_type": "slide"
    }
   },
   "source": [
    "## Continious operators\n",
    "\n",
    "Linear operator $A$ is called continious, if $A x_n \\to A x_0$ if $x_n \\to x_0$\n",
    "\n",
    "**Theorem:**\n",
    "\n",
    "If linear operator $A$ with $D(A) = X$ is continious at $0 \\in X$, then it is continious at any point $x_0 \\in X$.\n",
    "\n"
   ]
  },
  {
   "cell_type": "markdown",
   "metadata": {
    "hidden": true,
    "slideshow": {
     "slide_type": "slide"
    }
   },
   "source": [
    "## Bounded operators\n",
    "Linear operator $A$ is called **bounded**, if its norm, defined as is finite:\n",
    "\n",
    "$$\\Vert A \\Vert = \\sup_{x \\in X}\\frac{\\Vert A x \\Vert_Y}{\\Vert x \\Vert_X} < \\infty$$  "
   ]
  },
  {
   "cell_type": "markdown",
   "metadata": {
    "hidden": true,
    "slideshow": {
     "slide_type": "slide"
    }
   },
   "source": [
    "## Continious and bounded are equivalent\n",
    "\n",
    "If $D(A) = X$ for $A$ is continious iff $A$ is bounded.\n",
    "\n",
    "**Neccessity** Let $A$ be continious but not bounded. Then there exist a sequence $x_n$ such that $\\Vert x_n \\Vert = 1$ but $\\Vert A x_n \\geq n$. Let $x'_n = \\frac{1}{n} x_n$, then $\\Vert x'_n \\Vert \\to 0$, thus  $Ax'_n \\to 0$ from the continuity of $A$, but on the other hand $\\Vert A x'_n \\Vert \\geq 1$.\n",
    "\n",
    "**Sufficiency** If $A$ is bounded, then $\\Vert Ax \\Vert \\leq \\Vert A \\Vert \\Vert x \\Vert,$ thus if $x \\to 0$, $Ax \\to 0$. "
   ]
  },
  {
   "cell_type": "markdown",
   "metadata": {
    "hidden": true,
    "slideshow": {
     "slide_type": "slide"
    }
   },
   "source": [
    "## Sums and products of operators\n",
    "\n",
    "We can add operators $C = A + B$ (where $C$ is such that $Cx = Ax + Bx$), and also multiply them:\n",
    "\n",
    "If $A: X \\to Y$, $B: Y \\to Z$ then $C = BA$ acts from $X \\to Z$ by the rule\n",
    "\n",
    "$$C x = B (A x).$$\n",
    "\n",
    "Note the domains of definitions have to be consistent."
   ]
  },
  {
   "cell_type": "markdown",
   "metadata": {
    "hidden": true,
    "slideshow": {
     "slide_type": "slide"
    }
   },
   "source": [
    "## Norm bounds\n",
    "\n",
    "We have\n",
    "\n",
    "$$\\Vert A + B \\Vert \\leq \\Vert A \\Vert + \\Vert B \\Vert.$$\n",
    "\n",
    "and \n",
    "\n",
    "$$\\Vert A B \\Vert \\leq \\Vert A \\Vert ~\\Vert B \\Vert.$$\n",
    "\n",
    "(The latter is called multiplicativity of the operator norm, which plays important role in matrix analysis)."
   ]
  },
  {
   "cell_type": "markdown",
   "metadata": {
    "hidden": true,
    "slideshow": {
     "slide_type": "slide"
    }
   },
   "source": [
    "## Extension of linear operators\n",
    "**Theorem** (Without proof). If $A$ is a bounded linear operator defined on a dense subset $D(A) = X$ (i.e., $\\overline{D(A)} = X$, then there exist a linear operator $\\widehat{A}$ with $D(\\widehat{A}) = X$ and\n",
    "\n",
    "$$A x = \\widehat{A} x, \\quad x \\in D(A),$$\n",
    "\n",
    "and\n",
    "\n",
    "$$\\Vert A \\Vert = \\Vert \\widehat{A} \\Vert.$$"
   ]
  },
  {
   "cell_type": "markdown",
   "metadata": {
    "hidden": true
   },
   "source": [
    "## Spaces of linear operators\n",
    "\n",
    "Let $X$ and $Y$ be two Banach spaces.\n",
    "\n",
    "**Theorem** A set of continious linear operators from $X$ to $Y$ defined everywhere on $X$ is a Banach space (denoted $\\mathcal{L}(X, Y)$).\n",
    "\n",
    "The linear operations on operators are easily defined, the norm is an operator norm."
   ]
  },
  {
   "cell_type": "markdown",
   "metadata": {
    "hidden": true,
    "slideshow": {
     "slide_type": "slide"
    }
   },
   "source": [
    "## Convergence\n",
    "\n",
    "**Convergence** in this space is defined as \n",
    "\n",
    "$$\\Vert A_n - A \\Vert \\to 0.$$\n",
    "\n",
    "Another type of convergence in this space (called strong convergence) is that \n",
    "\n",
    "$$\\Vert A_n x - A x \\Vert \\to 0, \\quad \\forall x \\in X.$$\n",
    "\n",
    "What is stronger, norm convergence or \"pointwise\" convergence?"
   ]
  },
  {
   "cell_type": "markdown",
   "metadata": {
    "hidden": true,
    "slideshow": {
     "slide_type": "slide"
    }
   },
   "source": [
    "## Strong convergence is weaker :)\n",
    "\n",
    "If $A_n \\to A$ with respect to norm, then $A_n \\to A$ strongly.\n",
    "\n",
    "**Proof:**\n",
    "\n",
    "$$\\Vert A_n x - A x \\Vert \\leq \\Vert A_n - A \\Vert \\Vert x \\Vert$$"
   ]
  },
  {
   "cell_type": "markdown",
   "metadata": {
    "hidden": true,
    "slideshow": {
     "slide_type": "slide"
    }
   },
   "source": [
    "## Space $\\mathcal{L}(X)$\n",
    "\n",
    "If $X = Y$, then $\\mathcal{L}(X) = \\mathcal{L}(X, X)$ is the space of all linear operators from $X$ to $X$, with one more operation, clearly, $AB \\in \\mathcal{L}(X)$, if $A, B \\in \\mathcal{L}(X)$.\n",
    "\n",
    "We can also introduce an **indentity operator** $I x = x, \\quad \\forall x \\in X$,\n",
    "\n",
    "operator power $A^k = A \\cdot A \\cdot \\ldots \\cdot A$ and operator polynomial:\n",
    "\n",
    "$$p(A) = \\sum_{k=0}^N c_k A^k.$$"
   ]
  },
  {
   "cell_type": "markdown",
   "metadata": {
    "hidden": true
   },
   "source": [
    "## Functions of operators\n",
    "\n",
    "The most general way to define functions of operators is the series approach.\n",
    "\n",
    "We define \n",
    "$$f(A) = \\sum_{k=0}^{\\infty} c_k A^k$$\n",
    "\n",
    "Note that $\\Vert A^k \\Vert \\leq \\Vert A \\Vert^k$ and we use the following fact: "
   ]
  },
  {
   "cell_type": "markdown",
   "metadata": {
    "hidden": true,
    "slideshow": {
     "slide_type": "slide"
    }
   },
   "source": [
    "## Absolute convergence of the series\n",
    "If the series \n",
    "\n",
    "$$\\sum_{k=0}^{\\infty} \\Vert A_k \\Vert $$ \n",
    "converges, the operator series\n",
    "\n",
    "$$\\sum_{k=0}^{\\infty} A_k $$ converges in the norm (i.e. partial sums\n",
    "\n",
    "$$S_l = \\sum_{k=0}^l A_k$$ have a limit.\n",
    "\n",
    "To prove it, it is suffient to bound the remainder, and use that the space of continious linear operator is a Banach space."
   ]
  },
  {
   "cell_type": "markdown",
   "metadata": {
    "hidden": true,
    "slideshow": {
     "slide_type": "slide"
    }
   },
   "source": [
    "## Example of important operator functions\n",
    "\n",
    "$$\\exp(A) = \\sum_{k=0}^{\\infty} \\frac{A^k}{k!}.$$\n",
    "\n",
    "**Neumann series**\n",
    "\n",
    "$$f(A) = \\sum_{k=0}^{\\infty} A^k, $$\n",
    "\n",
    "which converges (why) if $\\Vert A \\Vert < 1$."
   ]
  },
  {
   "cell_type": "markdown",
   "metadata": {
    "hidden": true,
    "slideshow": {
     "slide_type": "slide"
    }
   },
   "source": [
    "## Inverse operator\n",
    "\n",
    "Now we come to the notion of the inverse operator. If $A \\in \\mathcal{X}$ maps $X$ one-to-one to $X$, then \n",
    "there exists an inverse operator (denoted by $A^{-1}$) \n",
    "\n",
    "such that\n",
    "\n",
    "$$A A^{-1} = A^{-1} A = I.$$\n",
    "\n",
    "Inverse operator exists, iff $\\mathrm{ker}(A) = 0$ (by $\\mathrm{ker}(A)$ we denote the nullspace of $A$, i.e. the set of vectors $x$ such that $Ax = 0$.)"
   ]
  },
  {
   "cell_type": "markdown",
   "metadata": {
    "hidden": true,
    "slideshow": {
     "slide_type": "slide"
    }
   },
   "source": [
    "## Existence \n",
    "\n",
    "**Theorem**\n",
    "\n",
    "Inverse operator $A^{-1}$ exists and is bounded iff there exists $m > 0$ such that\n",
    "\n",
    "$$\\Vert A x \\Vert \\geq m \\Vert x \\Vert.$$\n",
    "\n",
    "**Necessity**. If $A^{-1}$ exists and is bounded, then \n",
    "\n",
    "$$ \\Vert A^{-1} y \\Vert \\leq C \\Vert y \\Vert, \\quad \\forall y$$\n",
    "\n",
    "Now we set $ y = Ax$ and get the required statement with $m = C^{-1}$.\n",
    "\n",
    "**Sufficiency**. If the minimal bound is satisfied, then if $Ax = 0$, then $x = 0$, thus the inverse mapping $A^{-1}$ exists. Now we set $x = A^{-1} y$ and have the bound $\\Vert A^{-1} y \\Vert \\leq m^{-1} \\Vert y \\Vert.$"
   ]
  },
  {
   "cell_type": "markdown",
   "metadata": {
    "hidden": true,
    "slideshow": {
     "slide_type": "slide"
    }
   },
   "source": [
    "## Important question\n",
    "\n",
    "Is the inverse to the linear bounded operator a linear bounded operator?\n",
    "\n",
    "If $X$ is finite-dimensional Hilbert space? \n",
    "\n",
    "If $X$ is a general Banach space?"
   ]
  },
  {
   "cell_type": "markdown",
   "metadata": {
    "hidden": true,
    "slideshow": {
     "slide_type": "slide"
    }
   },
   "source": [
    "## Answer 1:\n",
    "\n",
    "In finite dimensions, yes."
   ]
  },
  {
   "cell_type": "markdown",
   "metadata": {
    "hidden": true,
    "slideshow": {
     "slide_type": "slide"
    }
   },
   "source": [
    "## Answer 2: \n",
    "\n",
    "In the general case, **no**: we can have an unbounded inverse operator (can you give an example?)"
   ]
  },
  {
   "cell_type": "markdown",
   "metadata": {
    "hidden": true,
    "slideshow": {
     "slide_type": "slide"
    }
   },
   "source": [
    "## Inverse operator and operator equations\n",
    "\n",
    "If we have a operator equation\n",
    "\n",
    "$$A x = y,$$\n",
    "\n",
    "then the solution is given as $x = A^{-1} y$."
   ]
  },
  {
   "cell_type": "markdown",
   "metadata": {
    "hidden": true,
    "slideshow": {
     "slide_type": "slide"
    }
   },
   "source": [
    "## Linear functionals\n",
    "\n",
    "The linear functionals are a special case of linear operators from $X$ to the real axis $\\mathbb{R}$,\n",
    "\n",
    "i.e. for each in the domain of the definition of $f$ we have $f(x)$ plus the standard linearity properties:\n",
    "\n",
    "1. $D(f)$ is a linear space\n",
    "2. $f(\\alpha x + \\beta y) = \\alpha f(x) + \\beta f(y)$.\n",
    "\n",
    "The value of the functional is denoted by $f(x)$ or $\\langle f, x \\rangle.$\n",
    "The boundness of $f$ means that the number\n",
    "\n",
    "$$\\Vert f \\Vert = \\sup_{x \\in D(f)} \\frac{\\langle f, x \\rangle}{\\Vert x \\Vert} < \\infty.$$\n",
    "\n"
   ]
  },
  {
   "cell_type": "markdown",
   "metadata": {
    "hidden": true,
    "slideshow": {
     "slide_type": "slide"
    }
   },
   "source": [
    "## Some examples\n",
    "\n",
    "1. If $f = (f_1, \\ldots, f_n)$, and $x = (x_1, \\ldots, x_n)$, then \n",
    "   $\\langle f, x \\rangle = \\sum_{i=1}^n x_i f_i$ is a linear functional.\n",
    "   \n",
    "2. Let $H$ be a Hilbert space, and $f$ is some element; then $(f, x)$ is a bounded linear functional (why?)\n",
    "\n",
    "3. If $X = C[a, b]$, $f, x \\in X$, then \n",
    "\n",
    "$$\\langle f, x \\rangle = \\int^b_a f(t) x(t) dt, \\quad \\mbox{or} \\quad \\langle f, x \\rangle = x(t_0)$$\n",
    "\n",
    "are both linear functional."
   ]
  },
  {
   "cell_type": "markdown",
   "metadata": {
    "hidden": true,
    "slideshow": {
     "slide_type": "slide"
    }
   },
   "source": [
    "## Adjoint space\n",
    "\n",
    "Let $X$ be a Banach space, then the space of all linear bounded functional is called **adjoint** space, and is denoted $X^*$. It is a Banach space as well! (What is the zero there?)\n",
    "\n",
    "We can then take a second adjoint, $X^{**}$. If $X^* = X$ (up to isometry) then $X^{**} = X$. \n",
    "\n",
    "But what happens if $X^{**} \\ne X$?\n",
    "\n",
    "It is quite obvious that $X \\in X^{**}$ up to isometry.\n",
    "\n",
    "If $X = X^{**}$ such Banach space is called **reflective** and has many good properties of the Hilbert space."
   ]
  },
  {
   "cell_type": "markdown",
   "metadata": {
    "hidden": true,
    "slideshow": {
     "slide_type": "slide"
    }
   },
   "source": [
    "## Weak convergence in Banach spaces\n",
    "\n",
    "We say that $x_n$ converges to $x$ weakly, if for any $f \\in X^*$ we have\n",
    "\n",
    "$\\langle f, x_n \\rangle \\to \\langle f, x \\rangle$.\n",
    "\n",
    "We also have **weak convergence of functionals**, if \n",
    "\n",
    "$\\langle f_n, x \\rangle \\to \\langle f, x \\rangle \\quad \\forall x \\in X.$"
   ]
  },
  {
   "cell_type": "markdown",
   "metadata": {
    "hidden": true,
    "slideshow": {
     "slide_type": "slide"
    }
   },
   "source": [
    "## Banach-Steinhaus theorem\n",
    "\n",
    "It is necessary and suffient for $f_n \\in X^*$ to converge weakly to $f$, if\n",
    "\n",
    "1. $\\Vert f_n \\Vert$ are bounded\n",
    "2. $\\langle f_n, x' \\rangle \\to \\langle f, x' \\rangle$ for all $x'$ in some set $X'$ that is everywhere dense in $X$. "
   ]
  },
  {
   "cell_type": "markdown",
   "metadata": {
    "hidden": true,
    "slideshow": {
     "slide_type": "slide"
    }
   },
   "source": [
    "## Application to integrals\n",
    "\n",
    "Consider computation of integrals\n",
    "\n",
    "$$I(f) = \\int^b_a f(x) w(x) dx, \\quad f \\in C[a, b],$$\n",
    "\n",
    "with some weight $w(x)$ by quadrature formulas\n",
    "\n",
    "$$I_N(f) = \\sum_{k=0}^N A^N_k f(x_k),$$\n",
    "\n",
    "with some **nodes** $x_k$ and **weights** $A^N_k$.\n",
    "\n",
    "We need to be sure that the quadrature process converges, i.e. $I_N(f) \\to I(f)$ as $N \\to \\infty$.\n",
    "\n",
    "We can show that the formula is exact for polynomials (dense subset), and we need to bound the norm:\n",
    "\n",
    "$$\\Vert I_N (f) \\Vert = \\sum_{k=0}^N \\mid A^N_k \\mid.$$\n",
    "\n",
    "(why the exact equality for the norm?)"
   ]
  },
  {
   "cell_type": "markdown",
   "metadata": {
    "hidden": true,
    "slideshow": {
     "slide_type": "slide"
    }
   },
   "source": [
    "## Riecz theorem and the Hanh-Banach theorem\n",
    "\n",
    "The Riecz theorem and the Hanh-Banach theorem are the main theorems in functional analysis. "
   ]
  },
  {
   "cell_type": "markdown",
   "metadata": {
    "hidden": true,
    "slideshow": {
     "slide_type": "slide"
    }
   },
   "source": [
    "## Riecz theorem\n",
    "\n",
    "Let $H$ be a Hilber space. Then for any linear bounded functional $f$ with $D(f) = H$ there exists a unique element $y \\in H$ such that\n",
    "\n",
    "$$\\langle f, x \\rangle = (y, x), \\quad \\Vert f \\Vert = \\Vert y \\Vert.$$"
   ]
  },
  {
   "cell_type": "markdown",
   "metadata": {
    "hidden": true,
    "slideshow": {
     "slide_type": "slide"
    }
   },
   "source": [
    "### Proof\n",
    "\n",
    "Let $L = \\mathrm{ker}(f)$. If $L = H$, then $\\Vert f \\Vert = 0$ and $y = 0$.\n",
    "\n",
    "Assume $L \\ne H$. Then there exists at least one element $y \\in H$ such that $\\langle f, y \\rangle \\ne 0$,\n",
    "\n",
    "and we can expand \n",
    "\n",
    "$$v = z + q,$$\n",
    "\n",
    "where $z \\in L$, and $q \\in L^{\\perp}$,\n",
    "\n",
    "and \n",
    "\n",
    "$\\langle f, v \\rangle = \\langle f, z \\rangle + \\langle f, q \\rangle = \\langle f, q \\rangle \\ne 0.$\n",
    "\n",
    "For any $x \\in H$ we have\n",
    "\n",
    "$$\\left\\langle f, x - \\frac{\\langle f, x \\rangle}{\\langle f, q \\rangle} q\\right\\rangle = 0$$\n",
    "\n",
    "Thus, the element $$x - \\frac{\\langle f, x \\rangle}{\\langle f, q \\rangle} q \\in L$$\n",
    "\n",
    "and is orthogonal to $q$, thus\n",
    "$$(q, x) = (q, q) \\frac{\\langle f, x \\rangle}{\\langle f, q \\rangle}$$\n",
    "and\n",
    "$$\\langle f, x \\rangle = \\frac{\\langle f, q \\rangle}{(q, q)}(q, x) = (y, x),$$\n",
    "where \n",
    "$$\n",
    "   y = \\frac{\\langle f, q \\rangle}{(q, q)}q\n",
    "$$\n",
    "\n",
    "We only need to show the norm bound.\n",
    "From the definition\n",
    "$$\\mid \\langle f, x \\rangle \\mid = \\mid (y, x) \\mid \\leq \\Vert y \\Vert ~ \\Vert x \\Vert,$$\n",
    "thus\n",
    "$$\\Vert f \\Vert \\leq \\Vert y \\Vert.$$\n",
    "Besides,\n",
    "$$\\langle f, y \\rangle = (y, y)  = \\Vert y \\Vert^2 \\leq \\Vert f \\Vert~\\Vert y \\Vert,$$\n",
    "thus\n",
    "$$\n",
    "\\Vert f \\Vert \\geq \\Vert y \\Vert,$$\n",
    "which completes the proof."
   ]
  },
  {
   "cell_type": "markdown",
   "metadata": {
    "hidden": true,
    "slideshow": {
     "slide_type": "slide"
    }
   },
   "source": [
    "## Corollary\n",
    "\n",
    "Hilbert space is a self-adjoint space, i.e. $H^* = H$."
   ]
  },
  {
   "cell_type": "markdown",
   "metadata": {
    "hidden": true,
    "slideshow": {
     "slide_type": "slide"
    }
   },
   "source": [
    "## Hanh-Banach theorem\n",
    "\n",
    "Let $L$ be a closed subspace of a Banach space $X$. If $f$ is a linear continious functional defined on $L$, there exists a continious linear functional $g$ defined on $X$ with the same norm such that\n",
    "$$\n",
    "  \\langle f, x \\rangle = \\langle g, x \\rangle, \\quad \\forall x \\in L, \\quad \\Vert g \\Vert = \\Vert f \\Vert.\n",
    "$$"
   ]
  },
  {
   "cell_type": "markdown",
   "metadata": {
    "hidden": true,
    "slideshow": {
     "slide_type": "slide"
    }
   },
   "source": [
    "## Proof in the general case\n",
    "The proof in the general case (non-separable Banach space $H$) requires set-theoretic tools (Zorn lemma), which we will not discuss here. (you can read it here: https://www.math.ksu.edu/~nagy/real-an/ap-e-h-b.pdf)\n",
    "\n",
    "We can do it in the Hilbert space setting."
   ]
  },
  {
   "cell_type": "markdown",
   "metadata": {
    "hidden": true,
    "slideshow": {
     "slide_type": "slide"
    }
   },
   "source": [
    "## Proof of Hahn-Banach theorem for Hilbert space\n",
    "\n",
    "Let $P$ be an orthoprojector from $X$ to $L$. Take the functional\n",
    "\n",
    "$$\\langle g, x \\rangle = \\langle f, Px \\rangle.$$\n",
    "\n",
    "It satisfies the conditions (why?)"
   ]
  },
  {
   "cell_type": "markdown",
   "metadata": {
    "hidden": true,
    "slideshow": {
     "slide_type": "slide"
    }
   },
   "source": [
    "## Corollary\n",
    "\n",
    "For any $x \\ne 0$ there is $f \\in X^*$ such that $\\Vert f \\Vert = 1$ and $\\langle f, x \\rangle = \\Vert x \\Vert$.\n",
    "\n",
    "Proof: Consider $L = t x$, and $\\langle f, x \\rangle = t \\Vert x \\Vert$ for all $x \\in L$."
   ]
  },
  {
   "cell_type": "code",
   "execution_count": 1,
   "metadata": {
    "collapsed": false,
    "hidden": true,
    "slideshow": {
     "slide_type": "skip"
    }
   },
   "outputs": [
    {
     "data": {
      "text/html": [
       "<link href='http://fonts.googleapis.com/css?family=Fenix' rel='stylesheet' type='text/css'>\n",
       "<link href='http://fonts.googleapis.com/css?family=Alegreya+Sans:100,300,400,500,700,800,900,100italic,300italic,400italic,500italic,700italic,800italic,900italic' rel='stylesheet' type='text/css'>\n",
       "<link href='http://fonts.googleapis.com/css?family=Source+Code+Pro:300,400' rel='stylesheet' type='text/css'>\n",
       "<style>\n",
       "    @font-face {\n",
       "        font-family: \"Computer Modern\";\n",
       "        src: url('http://mirrors.ctan.org/fonts/cm-unicode/fonts/otf/cmunss.otf');\n",
       "    }\n",
       "    div.cell{\n",
       "        /*width:80%;*/\n",
       "        /*margin-left:auto !important;\n",
       "        margin-right:auto;*/\n",
       "    }\n",
       "    h1 {\n",
       "        font-family: 'Alegreya Sans', sans-serif;\n",
       "    }\n",
       "    h2 {\n",
       "        font-family: 'Fenix', serif;\n",
       "    }\n",
       "    h3{\n",
       "\t\tfont-family: 'Fenix', serif;\n",
       "        margin-top:12px;\n",
       "        margin-bottom: 3px;\n",
       "       }\n",
       "\th4{\n",
       "\t\tfont-family: 'Fenix', serif;\n",
       "       }\n",
       "    h5 {\n",
       "        font-family: 'Alegreya Sans', sans-serif;\n",
       "    }\t   \n",
       "    div.text_cell_render{\n",
       "/*        font-family: 'Alegreya Sans',Computer Modern, \"Helvetica Neue\", Arial, Helvetica, Geneva, sans-serif;*/\n",
       "        line-height: 1.2;\n",
       "        font-size: 120%;\n",
       "        /*width:70%;*/\n",
       "        /*margin-left:auto;*/\n",
       "        margin-right:auto;\n",
       "        color: black;\n",
       "    }\n",
       "    .CodeMirror{\n",
       "            font-family: \"Source Code Pro\";\n",
       "\t\t\tfont-size: 90%;\n",
       "    }\n",
       "/*    .prompt{\n",
       "        display: None;\n",
       "    }*/\n",
       "    .text_cell_render h1 {\n",
       "        font-weight: 200;\n",
       "        font-size: 50pt;\n",
       "\t\tline-height: 110%;\n",
       "        color: #CD2305;\n",
       "        margin-bottom: 0.5em;\n",
       "        margin-top: 0.5em;\n",
       "        display: block;\n",
       "    }\t\n",
       "    .text_cell_render h5 {\n",
       "        font-weight: 300;\n",
       "        font-size: 16pt;\n",
       "        color: #CD2305;\n",
       "        font-style: italic;\n",
       "        margin-bottom: .5em;\n",
       "        margin-top: 0.5em;\n",
       "        display: block;\n",
       "    }\n",
       "    \n",
       "    li {\n",
       "        line-height: 110%;\n",
       "    }\n",
       "    .warning{\n",
       "        color: rgb( 240, 20, 20 )\n",
       "        }  \n",
       "</style>\n",
       "<script>\n",
       "    MathJax.Hub.Config({\n",
       "                        TeX: {\n",
       "                           extensions: [\"AMSmath.js\"]\n",
       "                           },\n",
       "                tex2jax: {\n",
       "                    inlineMath: [ ['$','$'], [\"\\\\(\",\"\\\\)\"] ],\n",
       "                    displayMath: [ ['$$','$$'], [\"\\\\[\",\"\\\\]\"] ]\n",
       "                },\n",
       "                displayAlign: 'center', // Change this to 'center' to center equations.\n",
       "                \"HTML-CSS\": {\n",
       "                    styles: {'.MathJax_Display': {\"margin\": 4}}\n",
       "                }\n",
       "        });\n",
       "</script>\n"
      ],
      "text/plain": [
       "<IPython.core.display.HTML object>"
      ]
     },
     "execution_count": 1,
     "metadata": {},
     "output_type": "execute_result"
    }
   ],
   "source": [
    "from IPython.core.display import HTML\n",
    "def css_styling():\n",
    "    styles = open(\"./styles/custom.css\", \"r\").read()\n",
    "    return HTML(styles)\n",
    "css_styling()"
   ]
  }
 ],
 "metadata": {
  "celltoolbar": "Slideshow",
  "kernelspec": {
   "display_name": "Python 2",
   "language": "python",
   "name": "python2"
  },
  "language_info": {
   "codemirror_mode": {
    "name": "ipython",
    "version": 2
   },
   "file_extension": ".py",
   "mimetype": "text/x-python",
   "name": "python",
   "nbconvert_exporter": "python",
   "pygments_lexer": "ipython2",
   "version": "2.7.12"
  },
  "nav_menu": {},
  "toc": {
   "navigate_menu": true,
   "number_sections": false,
   "sideBar": true,
   "threshold": 6,
   "toc_cell": false,
   "toc_section_display": "block",
   "toc_window_display": false
  }
 },
 "nbformat": 4,
 "nbformat_minor": 0
}
