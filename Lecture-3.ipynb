{
 "cells": [
  {
   "cell_type": "markdown",
   "metadata": {
    "slideshow": {
     "slide_type": "slide"
    }
   },
   "source": [
    "# Lecture 3"
   ]
  },
  {
   "cell_type": "markdown",
   "metadata": {
    "slideshow": {
     "slide_type": "slide"
    }
   },
   "source": [
    "## Previous lectures\n",
    "\n",
    "- Metric spaces, complete metric spaces\n",
    "- Vector spaces, Banach, Euclidean, Hilbert spaces,  contraction principle, Cauchy-Bunyakovski inequality"
   ]
  },
  {
   "cell_type": "markdown",
   "metadata": {
    "slideshow": {
     "slide_type": "slide"
    }
   },
   "source": [
    "## Todays lecture\n",
    "- (end of) Orthogonal basis"
   ]
  },
  {
   "cell_type": "markdown",
   "metadata": {
    "slideshow": {
     "slide_type": "slide"
    }
   },
   "source": [
    "## Orthogonal basis\n",
    "\n",
    "A set $x_1, \\ldots, $ forms an orthonormal system, \n",
    "\n",
    "if $$(x_i, x_j) = \\delta_{ij}, \\quad i, j = 1, \\ldots$$\n",
    "\n",
    "Q: Any examples of orthogonal bases?"
   ]
  },
  {
   "cell_type": "markdown",
   "metadata": {
    "slideshow": {
     "slide_type": "slide"
    }
   },
   "source": [
    "## Examples of orthogonal bases\n",
    "\n",
    "1. Columns of orthogonal matrices in $\\mathbb{R}^n$ (i.e. $U^{\\top} U = I$.)\n",
    "2. Set of trigonometric functions $1, \\cos nt, \\sin nt$ forms an orthogonal system in $L_2(0, 2 \\pi)$\n",
    "3. Orthogonal polynomials, which can be obtained by the **orthogonalization process**"
   ]
  },
  {
   "cell_type": "markdown",
   "metadata": {
    "slideshow": {
     "slide_type": "slide"
    }
   },
   "source": [
    "## Linear independence\n",
    "\n",
    "**Theorem** If $\\{ x_i \\}$ form an orthonormal system then this system is linearly independent.\n",
    "\n",
    "**Proof:** Suppose there exist numbers $\\lambda_1, \\ldots, \\lambda_k$ such that\n",
    "\n",
    "$$\\sum_{s=1}^M \\lambda_s x_{n_s} = 0.$$\n",
    "\n",
    "Then we take scalar product with $x_{n_s'}$ and get $\\lambda_{s'} = 0$."
   ]
  },
  {
   "cell_type": "markdown",
   "metadata": {
    "slideshow": {
     "slide_type": "slide"
    }
   },
   "source": [
    "## Gram-Schmidt-Sonin orthogonalization\n",
    "The \"inverse\" is also true: any set of linearly independent elements from a Hilbert space $H$ can be orthogonalized.\n"
   ]
  },
  {
   "cell_type": "markdown",
   "metadata": {
    "slideshow": {
     "slide_type": "slide"
    }
   },
   "source": [
    "## Construction of orthonormal basis\n",
    "\n",
    "Take $e_1 = \\frac{x_1}{\\Vert x_1 \\Vert}$, and then $e'_2 = x_2 - \\alpha e_1$ and select $\\alpha$ in such a way that \n",
    "\n",
    "$$(e_2, e_1) = 0.$$\n",
    "\n",
    "This uniquely defines $\\alpha = \\frac{(x_2, e_1)}$, and $\\Vert e'_2 \\Vert  > 0$ otherwise $x_1, x_2$ will be linearly dependent, \n",
    "and we can set $e_2 = \\frac{e'_2}{\\Vert e'_2 \\Vert}$.\n",
    "\n",
    "This process then continues:  $e'_3 = x_3 - \\alpha_1 e_1 - \\alpha_2 e_2$ and we need $(e'_3, e_1) = (e'_3, e_2) = 0$ which uniquely defines $\\alpha_1, \\alpha_2$"
   ]
  },
  {
   "cell_type": "markdown",
   "metadata": {
    "slideshow": {
     "slide_type": "slide"
    }
   },
   "source": [
    "## Interesting applications\n",
    "\n",
    "1. Orthogonalization in matrix analysis (stability issues!)\n",
    "2. Orthogonal polynomial basis -- never use monomials for polynomial approximation!"
   ]
  },
  {
   "cell_type": "markdown",
   "metadata": {
    "slideshow": {
     "slide_type": "slide"
    }
   },
   "source": [
    "## Example of polynomial expansions\n",
    "\n",
    "Take a function $f(x)$ and try to:\n",
    "\n",
    "$$ f(x) \\approx \\sum_{k=1}^N \\alpha_k x^k$$ \n",
    "\n",
    "or \n",
    "\n",
    "$$ f(x) \\approx \\sum_{k=1}^N \\alpha_k T_k(x), $$\n",
    "\n",
    "where $T_k(x)$ are **Chebyshev polynomials** (each is of $k$-th degree)."
   ]
  },
  {
   "cell_type": "code",
   "execution_count": 2,
   "metadata": {
    "collapsed": true,
    "slideshow": {
     "slide_type": "slide"
    }
   },
   "outputs": [],
   "source": [
    "import numpy as np\n",
    "import matplotlib.pyplot as plt\n",
    "%matplotlib inline\n",
    "n = 1000\n"
   ]
  },
  {
   "cell_type": "markdown",
   "metadata": {
    "slideshow": {
     "slide_type": "slide"
    }
   },
   "source": [
    "## Linear operators in Banach spaces"
   ]
  },
  {
   "cell_type": "markdown",
   "metadata": {
    "slideshow": {
     "slide_type": "slide"
    }
   },
   "source": [
    "## Definition\n",
    "\n",
    "Let $X$ and $Y$ be two Banach spaces, and $A$ is a mapping from a subset $D(A) \\subset X$ to a subset $R(A)$ of $Y$.\n",
    "\n",
    "- $D(A)$ is called domain of definition of $A$\n",
    "- $R(A)$ is called range of values of $A$\n",
    "\n",
    "Operator $A$ from $X$ and $Y$ is called **linear operator** if \n",
    "\n",
    "$$A( \\lamba_1 x_1 + \\lambda_2 x_2) = \\lambda_1 A(x_1) + \\lambda_2 A(x_2)$$ \n",
    "\n",
    "for any $x_1, x_2 \\in D(A)$."
   ]
  },
  {
   "cell_type": "markdown",
   "metadata": {
    "slideshow": {
     "slide_type": "slide"
    }
   },
   "source": [
    "## Theorem\n",
    "\n",
    "Domain of definition $D(A)$ of a linear operator is a linear space.\n",
    "\n",
    "Indeed, let $A x_1 = y_1, A x_2 = y_2$, from the definition; $ A(\\lambda_1 x_1 + \\lambda_2 x_2) = \\lambda_1 y_1 + \\lambda_2 y_2$"
   ]
  },
  {
   "cell_type": "code",
   "execution_count": 1,
   "metadata": {
    "collapsed": false,
    "slideshow": {
     "slide_type": "skip"
    }
   },
   "outputs": [
    {
     "data": {
      "text/html": [
       "<link href='http://fonts.googleapis.com/css?family=Fenix' rel='stylesheet' type='text/css'>\n",
       "<link href='http://fonts.googleapis.com/css?family=Alegreya+Sans:100,300,400,500,700,800,900,100italic,300italic,400italic,500italic,700italic,800italic,900italic' rel='stylesheet' type='text/css'>\n",
       "<link href='http://fonts.googleapis.com/css?family=Source+Code+Pro:300,400' rel='stylesheet' type='text/css'>\n",
       "<style>\n",
       "    @font-face {\n",
       "        font-family: \"Computer Modern\";\n",
       "        src: url('http://mirrors.ctan.org/fonts/cm-unicode/fonts/otf/cmunss.otf');\n",
       "    }\n",
       "    div.cell{\n",
       "        /*width:80%;*/\n",
       "        /*margin-left:auto !important;\n",
       "        margin-right:auto;*/\n",
       "    }\n",
       "    h1 {\n",
       "        font-family: 'Alegreya Sans', sans-serif;\n",
       "    }\n",
       "    h2 {\n",
       "        font-family: 'Fenix', serif;\n",
       "    }\n",
       "    h3{\n",
       "\t\tfont-family: 'Fenix', serif;\n",
       "        margin-top:12px;\n",
       "        margin-bottom: 3px;\n",
       "       }\n",
       "\th4{\n",
       "\t\tfont-family: 'Fenix', serif;\n",
       "       }\n",
       "    h5 {\n",
       "        font-family: 'Alegreya Sans', sans-serif;\n",
       "    }\t   \n",
       "    div.text_cell_render{\n",
       "/*        font-family: 'Alegreya Sans',Computer Modern, \"Helvetica Neue\", Arial, Helvetica, Geneva, sans-serif;*/\n",
       "        line-height: 1.2;\n",
       "        font-size: 120%;\n",
       "        /*width:70%;*/\n",
       "        /*margin-left:auto;*/\n",
       "        margin-right:auto;\n",
       "        color: black;\n",
       "    }\n",
       "    .CodeMirror{\n",
       "            font-family: \"Source Code Pro\";\n",
       "\t\t\tfont-size: 90%;\n",
       "    }\n",
       "/*    .prompt{\n",
       "        display: None;\n",
       "    }*/\n",
       "    .text_cell_render h1 {\n",
       "        font-weight: 200;\n",
       "        font-size: 50pt;\n",
       "\t\tline-height: 110%;\n",
       "        color: #CD2305;\n",
       "        margin-bottom: 0.5em;\n",
       "        margin-top: 0.5em;\n",
       "        display: block;\n",
       "    }\t\n",
       "    .text_cell_render h5 {\n",
       "        font-weight: 300;\n",
       "        font-size: 16pt;\n",
       "        color: #CD2305;\n",
       "        font-style: italic;\n",
       "        margin-bottom: .5em;\n",
       "        margin-top: 0.5em;\n",
       "        display: block;\n",
       "    }\n",
       "    \n",
       "    li {\n",
       "        line-height: 110%;\n",
       "    }\n",
       "    .warning{\n",
       "        color: rgb( 240, 20, 20 )\n",
       "        }  \n",
       "</style>\n",
       "<script>\n",
       "    MathJax.Hub.Config({\n",
       "                        TeX: {\n",
       "                           extensions: [\"AMSmath.js\"]\n",
       "                           },\n",
       "                tex2jax: {\n",
       "                    inlineMath: [ ['$','$'], [\"\\\\(\",\"\\\\)\"] ],\n",
       "                    displayMath: [ ['$$','$$'], [\"\\\\[\",\"\\\\]\"] ]\n",
       "                },\n",
       "                displayAlign: 'center', // Change this to 'center' to center equations.\n",
       "                \"HTML-CSS\": {\n",
       "                    styles: {'.MathJax_Display': {\"margin\": 4}}\n",
       "                }\n",
       "        });\n",
       "</script>\n"
      ],
      "text/plain": [
       "<IPython.core.display.HTML object>"
      ]
     },
     "execution_count": 1,
     "metadata": {},
     "output_type": "execute_result"
    }
   ],
   "source": [
    "from IPython.core.display import HTML\n",
    "def css_styling():\n",
    "    styles = open(\"./styles/custom.css\", \"r\").read()\n",
    "    return HTML(styles)\n",
    "css_styling()"
   ]
  }
 ],
 "metadata": {
  "celltoolbar": "Slideshow",
  "kernelspec": {
   "display_name": "Python 2",
   "language": "python",
   "name": "python2"
  },
  "language_info": {
   "codemirror_mode": {
    "name": "ipython",
    "version": 2
   },
   "file_extension": ".py",
   "mimetype": "text/x-python",
   "name": "python",
   "nbconvert_exporter": "python",
   "pygments_lexer": "ipython2",
   "version": "2.7.12"
  },
  "nav_menu": {},
  "toc": {
   "navigate_menu": true,
   "number_sections": false,
   "sideBar": true,
   "threshold": 6,
   "toc_cell": false,
   "toc_section_display": "block",
   "toc_window_display": false
  }
 },
 "nbformat": 4,
 "nbformat_minor": 0
}
